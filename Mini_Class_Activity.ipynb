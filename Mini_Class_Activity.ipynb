{
 "cells": [
  {
   "cell_type": "markdown",
   "metadata": {},
   "source": [
    "## Mini Class Activity - ``Intro to Machine Learning``\n",
    "\n",
    "<hr>"
   ]
  },
  {
   "cell_type": "markdown",
   "metadata": {},
   "source": [
    "### 1. Student dibagi menjadi ``3 kelompok``diskusi.\n",
    "### 2. Setiap kelompok mendapat topik diskusi:\n",
    "####    a) Regresi (_Regression_)\n",
    "####    b) Klasifikasi (_Classification_)\n",
    "####    c) Klastering (_Clustering_)\n",
    "\n",
    "### 2. ``Panduan diskusi`` setiap kelompok:\n",
    "####    a) Apakah tergolong _supervised_ atau _unsupervised learning_? Apa perbedaan keduanya?\n",
    "####    b) Sebutkan contoh prediksi yang bisa dilakukan?\n",
    "####    c) Apa manfaat yang bisa diberikan ke perusahaan?\n",
    "####    d) Bagaimana bentuk data yang dibutuhkan untuk melakukan prediksi?\n",
    "####    e) Cari contoh kernel yang menggunakan model ML tersebut di Kaggle?"
   ]
  }
 ],
 "metadata": {
  "kernelspec": {
   "display_name": "Python 3.8.1 32-bit",
   "language": "python",
   "name": "python38132bitf9f79e71b62e4503b25567c1d3914456"
  },
  "language_info": {
   "codemirror_mode": {
    "name": "ipython",
    "version": 3
   },
   "file_extension": ".py",
   "mimetype": "text/x-python",
   "name": "python",
   "nbconvert_exporter": "python",
   "pygments_lexer": "ipython3",
   "version": "3.8.1"
  }
 },
 "nbformat": 4,
 "nbformat_minor": 4
}
